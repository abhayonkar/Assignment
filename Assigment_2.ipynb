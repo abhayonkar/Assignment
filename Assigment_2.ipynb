{
  "nbformat": 4,
  "nbformat_minor": 0,
  "metadata": {
    "colab": {
      "provenance": [],
      "authorship_tag": "ABX9TyPXIXC+43FDtnW6PIGT76Y+",
      "include_colab_link": true
    },
    "kernelspec": {
      "name": "python3",
      "display_name": "Python 3"
    },
    "language_info": {
      "name": "python"
    }
  },
  "cells": [
    {
      "cell_type": "markdown",
      "metadata": {
        "id": "view-in-github",
        "colab_type": "text"
      },
      "source": [
        "<a href=\"https://colab.research.google.com/github/abhayonkar/Assignment/blob/main/Assigment_2.ipynb\" target=\"_parent\"><img src=\"https://colab.research.google.com/assets/colab-badge.svg\" alt=\"Open In Colab\"/></a>"
      ]
    },
    {
      "cell_type": "code",
      "execution_count": 6,
      "metadata": {
        "colab": {
          "base_uri": "https://localhost:8080/",
          "height": 671
        },
        "id": "dpmsTpHt9RnC",
        "outputId": "67ec534c-01ef-4b38-cde2-01943613a9ac"
      },
      "outputs": [
        {
          "output_type": "display_data",
          "data": {
            "text/plain": [
              "<IPython.core.display.Javascript object>"
            ],
            "application/javascript": [
              "(async (port, path, width, height, cache, element) => {\n",
              "    if (!google.colab.kernel.accessAllowed && !cache) {\n",
              "      return;\n",
              "    }\n",
              "    element.appendChild(document.createTextNode(''));\n",
              "    const url = await google.colab.kernel.proxyPort(port, {cache});\n",
              "    const iframe = document.createElement('iframe');\n",
              "    iframe.src = new URL(path, url).toString();\n",
              "    iframe.height = height;\n",
              "    iframe.width = width;\n",
              "    iframe.style.border = 0;\n",
              "    iframe.allow = [\n",
              "        'accelerometer',\n",
              "        'autoplay',\n",
              "        'camera',\n",
              "        'clipboard-read',\n",
              "        'clipboard-write',\n",
              "        'gyroscope',\n",
              "        'magnetometer',\n",
              "        'microphone',\n",
              "        'serial',\n",
              "        'usb',\n",
              "        'xr-spatial-tracking',\n",
              "    ].join('; ');\n",
              "    element.appendChild(iframe);\n",
              "  })(8050, \"/\", \"100%\", 650, false, window.element)"
            ]
          },
          "metadata": {}
        }
      ],
      "source": [
        "import dash\n",
        "from dash import dcc, html, Input, Output\n",
        "import pandas as pd\n",
        "import plotly.express as px\n",
        "\n",
        "# Load the dataset\n",
        "data = pd.read_csv(\"historical_automobile_sales.csv\")\n",
        "\n",
        "# Initialize Dash app\n",
        "app = dash.Dash(__name__)\n",
        "app.title = \"Automobile Sales Analysis Dashboard\"\n",
        "\n",
        "# App layout\n",
        "app.layout = html.Div([\n",
        "    html.H1(\"Automobile Sales Analysis Dashboard\", style={\"textAlign\": \"center\"}),\n",
        "\n",
        "    # Dropdowns for filtering\n",
        "    html.Div([\n",
        "        html.Label(\"Select a Report Type:\"),\n",
        "        dcc.Dropdown(\n",
        "            id=\"report-type-dropdown\",\n",
        "            options=[\n",
        "                {\"label\": \"Recession Report\", \"value\": \"Recession\"},\n",
        "                {\"label\": \"Yearly Report\", \"value\": \"Yearly\"}\n",
        "            ],\n",
        "            value=\"Recession\",\n",
        "            placeholder=\"Select a report type\"\n",
        "        ),\n",
        "\n",
        "        html.Label(\"Select a Year:\"),\n",
        "        dcc.Dropdown(\n",
        "            id=\"year-dropdown\",\n",
        "            options=[{\"label\": year, \"value\": year} for year in sorted(data[\"Year\"].unique())],\n",
        "            value=data[\"Year\"].min(),\n",
        "            placeholder=\"Select a year\"\n",
        "        )\n",
        "    ], style={\"width\": \"50%\", \"margin\": \"auto\"}),\n",
        "\n",
        "    # Output container\n",
        "    html.Div(id=\"output-container\", className=\"output-container\"),\n",
        "\n",
        "    # Graph display area\n",
        "    html.Div([\n",
        "        dcc.Graph(id=\"report-graph\")\n",
        "    ])\n",
        "])\n",
        "\n",
        "# Callback to update output and graph\n",
        "@app.callback(\n",
        "    [Output(\"output-container\", \"children\"),\n",
        "     Output(\"report-graph\", \"figure\")],\n",
        "    [Input(\"report-type-dropdown\", \"value\"),\n",
        "     Input(\"year-dropdown\", \"value\")]\n",
        ")\n",
        "def update_report(report_type, selected_year):\n",
        "    if report_type == \"Recession\":\n",
        "        filtered_data = data[data[\"Recession\"] == 1]  # Filter for recession years\n",
        "        title = f\"Recession Report Statistics for {selected_year}\"\n",
        "        figure = px.bar(\n",
        "            filtered_data[filtered_data[\"Year\"] == selected_year],\n",
        "            x=\"Month\",\n",
        "            y=\"Automobile_Sales\",\n",
        "            title=title\n",
        "        )\n",
        "    else:  # Yearly Report\n",
        "        filtered_data = data[data[\"Year\"] == selected_year]\n",
        "        title = f\"Yearly Report Statistics for {selected_year}\"\n",
        "        figure = px.line(\n",
        "            filtered_data,\n",
        "            x=\"Month\",\n",
        "            y=\"Automobile_Sales\",\n",
        "            title=title\n",
        "        )\n",
        "\n",
        "    return f\"Displaying {report_type} Report for {selected_year}\", figure\n",
        "\n",
        "# Run the app\n",
        "if __name__ == \"__main__\":\n",
        "    app.run_server(debug=True)\n"
      ]
    },
    {
      "cell_type": "code",
      "source": [],
      "metadata": {
        "id": "R8ZOyY5J9TrP"
      },
      "execution_count": null,
      "outputs": []
    }
  ]
}